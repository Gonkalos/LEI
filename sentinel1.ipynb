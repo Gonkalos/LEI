{
  "nbformat": 4,
  "nbformat_minor": 0,
  "metadata": {
    "orig_nbformat": 2,
    "colab": {
      "name": "sentinel1.ipynb",
      "provenance": [],
      "collapsed_sections": []
    },
    "language_info": {
      "name": "python"
    },
    "kernelspec": {
      "name": "python3",
      "display_name": "Python 3"
    }
  },
  "cells": [
    {
      "cell_type": "markdown",
      "metadata": {
        "id": "GAKmLisyZdpv"
      },
      "source": [
        "## Deteção de alterações no solo português através de sequências de imagens de satélite"
      ]
    },
    {
      "cell_type": "markdown",
      "metadata": {
        "id": "R9QyPVZBZdp3"
      },
      "source": [
        "Initialize Google Earth Engine API"
      ]
    },
    {
      "cell_type": "code",
      "metadata": {
        "colab": {
          "base_uri": "https://localhost:8080/"
        },
        "id": "Y-Am6AQdZdp4",
        "outputId": "f729ddd9-2197-44ec-8144-92606b240fb5"
      },
      "source": [
        "import ee\n",
        "\n",
        "# trigger the authentication flow\n",
        "ee.Authenticate()\n",
        "\n",
        "# initialize the library\n",
        "ee.Initialize()"
      ],
      "execution_count": 3,
      "outputs": [
        {
          "output_type": "stream",
          "text": [
            "To authorize access needed by Earth Engine, open the following URL in a web browser and follow the instructions. If the web browser does not start automatically, please manually browse the URL below.\n",
            "\n",
            "    https://accounts.google.com/o/oauth2/auth?client_id=517222506229-vsmmajv00ul0bs7p89v5m89qs8eb9359.apps.googleusercontent.com&scope=https%3A%2F%2Fwww.googleapis.com%2Fauth%2Fearthengine+https%3A%2F%2Fwww.googleapis.com%2Fauth%2Fdevstorage.full_control&redirect_uri=urn%3Aietf%3Awg%3Aoauth%3A2.0%3Aoob&response_type=code&code_challenge=g1KKwAcP_abFfqDhXuVdCWP-Np0ttzt6yHY9OfR6G2k&code_challenge_method=S256\n",
            "\n",
            "The authorization workflow will generate a code, which you should paste in the box below. \n",
            "Enter verification code: 4/1AY0e-g7DuVLqQRcEIEW-KOLvh0vFA84ERnGw5fiSjgdQA4-upOOZ3eQlABU\n",
            "\n",
            "Successfully saved authorization token.\n"
          ],
          "name": "stdout"
        }
      ]
    },
    {
      "cell_type": "markdown",
      "metadata": {
        "id": "ebr49hSOZdp3"
      },
      "source": [
        "Import some python modules and enable inline graphics"
      ]
    },
    {
      "cell_type": "code",
      "metadata": {
        "id": "aU3OrGCoZdp3"
      },
      "source": [
        "import numpy as np\n",
        "import matplotlib.pyplot as plt\n",
        "from scipy.stats import norm, gamma, f, chi2\n",
        "import IPython.display as disp\n",
        "%matplotlib inline"
      ],
      "execution_count": 10,
      "outputs": []
    },
    {
      "cell_type": "markdown",
      "metadata": {
        "id": "UTfxlyg2Zdp4"
      },
      "source": [
        "Make use of interactive maps with the package Folium"
      ]
    },
    {
      "cell_type": "code",
      "metadata": {
        "id": "gjDzmLopZdp4"
      },
      "source": [
        "# import the Folium library.\n",
        "import folium\n",
        "\n",
        "# define a method for displaying Earth Engine image tiles to folium map.\n",
        "def add_ee_layer(self, ee_image_object, vis_params, name):\n",
        "  map_id_dict = ee.Image(ee_image_object).getMapId(vis_params)\n",
        "  folium.raster_layers.TileLayer(\n",
        "    tiles = map_id_dict['tile_fetcher'].url_format,\n",
        "    attr = 'Map Data &copy; <a href=\"https://earthengine.google.com/\">Google Earth Engine</a>',\n",
        "    name = name,\n",
        "    overlay = True,\n",
        "    control = True\n",
        "  ).add_to(self)\n",
        "\n",
        "# add EE drawing method to folium.\n",
        "folium.Map.add_ee_layer = add_ee_layer"
      ],
      "execution_count": 11,
      "outputs": []
    },
    {
      "cell_type": "markdown",
      "metadata": {
        "id": "B00tI6LzZdp5"
      },
      "source": [
        "Define the region of interest with GeoJSON"
      ]
    },
    {
      "cell_type": "code",
      "metadata": {
        "id": "0PxTDsPmZdp5"
      },
      "source": [
        "coords = [[-8.49606, 41.58829],\n",
        "          [-8.36868, 41.58829],\n",
        "          [-8.36868, 41.50188],\n",
        "          [-8.49606, 41.50188],\n",
        "          [-8.49606, 41.58829]]\n",
        "\n",
        "geoJSON = {\n",
        "    \"type\": \"Feature\",\n",
        "    \"properties\": {},\n",
        "    \"geometry\": {\n",
        "        \"type\": \"Polygon\",\n",
        "        \"coordinates\": coords\n",
        "    }\n",
        "}\n",
        "\n",
        "aoi = ee.Geometry.Polygon(coords)"
      ],
      "execution_count": 12,
      "outputs": []
    },
    {
      "cell_type": "markdown",
      "metadata": {
        "id": "G9r5kj8NZdp5"
      },
      "source": [
        "Get the image collection from the Google Earth Engine archives "
      ]
    },
    {
      "cell_type": "code",
      "metadata": {
        "id": "rQaMfR6vZdp5"
      },
      "source": [
        "coll_fl = (ee.ImageCollection('COPERNICUS/S1_GRD_FLOAT')                  # specify image archive\n",
        "                .filterBounds(aoi)                                         # specify area on interest\n",
        "                .filterDate(ee.Date('2014-01-01'),ee.Date('2021-01-01'))   # specify time period\n",
        "                .filter(ee.Filter.eq('orbitProperties_pass', 'ASCENDING')) # specify orbit pass \n",
        "                #.filter(ee.Filter.eq('relativeOrbitNumber_start', 15))     # specify relative orbit number \n",
        "                .sort('system:time_start'))                                # sort by date\n",
        "\n",
        "# log-scaled collection\n",
        "coll_ls = (ee.ImageCollection('COPERNICUS/S1_GRD')                         # specify image archive\n",
        "                .filterBounds(aoi)                                         # specify area on interest\n",
        "                .filterDate(ee.Date('2014-01-01'),ee.Date('2021-01-01'))   # specify time period\n",
        "                .filter(ee.Filter.eq('orbitProperties_pass', 'ASCENDING')) # specify orbit pass \n",
        "                #.filter(ee.Filter.eq('relativeOrbitNumber_start', 15))     # specify relative orbit number \n",
        "                .sort('system:time_start'))                                # sort by date"
      ],
      "execution_count": 16,
      "outputs": []
    },
    {
      "cell_type": "markdown",
      "metadata": {
        "id": "cAHQ3W2yDCLp"
      },
      "source": [
        "Get collection as a list and clip all images to the area of interest"
      ]
    },
    {
      "cell_type": "code",
      "metadata": {
        "colab": {
          "base_uri": "https://localhost:8080/"
        },
        "id": "eAMqXnthDDQS",
        "outputId": "83c574f7-2ac1-432a-b7fb-5962cf57d5fa"
      },
      "source": [
        "# get the image collection as a list\n",
        "list_fl = coll_fl.toList(coll_fl.size())\n",
        "list_ls = coll_ls.toList(coll_ls.size())\n",
        "\n",
        "print('Number of images available:', list_fl.length().getInfo())\n",
        "\n",
        "# clip an image to the area of interest\n",
        "def clip_img(img):\n",
        "  return ee.Image(img).clip(aoi)\n",
        "\n",
        "# clip all images to the area of interest\n",
        "list_fl = ee.List(list_fl.map(clip_img))\n",
        "list_ls = ee.List(list_ls.map(clip_img))"
      ],
      "execution_count": 18,
      "outputs": [
        {
          "output_type": "stream",
          "text": [
            "Number of images available: 313\n"
          ],
          "name": "stdout"
        }
      ]
    },
    {
      "cell_type": "markdown",
      "metadata": {
        "id": "JLcf1zD2QDs_"
      },
      "source": [
        "Display first image"
      ]
    },
    {
      "cell_type": "code",
      "metadata": {
        "colab": {
          "base_uri": "https://localhost:8080/",
          "height": 1000
        },
        "id": "bXVej0UjMKLF",
        "outputId": "df79f073-bfdd-4367-adb8-68b479ac6642"
      },
      "source": [
        "def displayImage(img):\n",
        "  url = img.select('VV').getThumbURL({'min': -20, 'max': 0})\n",
        "  disp.Image(url=url, width=800)\n",
        "  location = aoi.centroid().coordinates().getInfo()[::-1]\n",
        "  # Make an RGB color composite image (VV,VH,VV/VH).\n",
        "  rgb = ee.Image.rgb(img.select('VV'),\n",
        "                     img.select('VH'),\n",
        "                     img.select('VV').divide(img.select('VH')))\n",
        "  # Create the map object.\n",
        "  m = folium.Map(location=location, zoom_start=12)\n",
        "  # Add the S1 rgb composite to the map object.\n",
        "  m.add_ee_layer(rgb, {'min': [-20, -20, 0], 'max': [0, 0, 2]}, 'FFA')\n",
        "  # Add a layer control panel to the map.\n",
        "  m.add_child(folium.LayerControl())\n",
        "  # Display the map.\n",
        "  display(m)\n",
        "\n",
        "displayImage(ee.Image(list_ls.get(0)))"
      ],
      "execution_count": 19,
      "outputs": [
        {
          "output_type": "display_data",
          "data": {
            "text/html": [
              "<div style=\"width:100%;\"><div style=\"position:relative;width:100%;height:0;padding-bottom:60%;\"><span style=\"color:#565656\">Make this Notebook Trusted to load map: File -> Trust Notebook</span><iframe src=\"about:blank\" style=\"position:absolute;width:100%;height:100%;left:0;top:0;border:none !important;\" data-html=%3C%21DOCTYPE%20html%3E%0A%3Chead%3E%20%20%20%20%0A%20%20%20%20%3Cmeta%20http-equiv%3D%22content-type%22%20content%3D%22text/html%3B%20charset%3DUTF-8%22%20/%3E%0A%20%20%20%20%3Cscript%3EL_PREFER_CANVAS%3Dfalse%3B%20L_NO_TOUCH%3Dfalse%3B%20L_DISABLE_3D%3Dfalse%3B%3C/script%3E%0A%20%20%20%20%3Cscript%20src%3D%22https%3A//cdn.jsdelivr.net/npm/leaflet%401.4.0/dist/leaflet.js%22%3E%3C/script%3E%0A%20%20%20%20%3Cscript%20src%3D%22https%3A//code.jquery.com/jquery-1.12.4.min.js%22%3E%3C/script%3E%0A%20%20%20%20%3Cscript%20src%3D%22https%3A//maxcdn.bootstrapcdn.com/bootstrap/3.2.0/js/bootstrap.min.js%22%3E%3C/script%3E%0A%20%20%20%20%3Cscript%20src%3D%22https%3A//cdnjs.cloudflare.com/ajax/libs/Leaflet.awesome-markers/2.0.2/leaflet.awesome-markers.js%22%3E%3C/script%3E%0A%20%20%20%20%3Clink%20rel%3D%22stylesheet%22%20href%3D%22https%3A//cdn.jsdelivr.net/npm/leaflet%401.4.0/dist/leaflet.css%22/%3E%0A%20%20%20%20%3Clink%20rel%3D%22stylesheet%22%20href%3D%22https%3A//maxcdn.bootstrapcdn.com/bootstrap/3.2.0/css/bootstrap.min.css%22/%3E%0A%20%20%20%20%3Clink%20rel%3D%22stylesheet%22%20href%3D%22https%3A//maxcdn.bootstrapcdn.com/bootstrap/3.2.0/css/bootstrap-theme.min.css%22/%3E%0A%20%20%20%20%3Clink%20rel%3D%22stylesheet%22%20href%3D%22https%3A//maxcdn.bootstrapcdn.com/font-awesome/4.6.3/css/font-awesome.min.css%22/%3E%0A%20%20%20%20%3Clink%20rel%3D%22stylesheet%22%20href%3D%22https%3A//cdnjs.cloudflare.com/ajax/libs/Leaflet.awesome-markers/2.0.2/leaflet.awesome-markers.css%22/%3E%0A%20%20%20%20%3Clink%20rel%3D%22stylesheet%22%20href%3D%22https%3A//rawcdn.githack.com/python-visualization/folium/master/folium/templates/leaflet.awesome.rotate.css%22/%3E%0A%20%20%20%20%3Cstyle%3Ehtml%2C%20body%20%7Bwidth%3A%20100%25%3Bheight%3A%20100%25%3Bmargin%3A%200%3Bpadding%3A%200%3B%7D%3C/style%3E%0A%20%20%20%20%3Cstyle%3E%23map%20%7Bposition%3Aabsolute%3Btop%3A0%3Bbottom%3A0%3Bright%3A0%3Bleft%3A0%3B%7D%3C/style%3E%0A%20%20%20%20%0A%20%20%20%20%3Cmeta%20name%3D%22viewport%22%20content%3D%22width%3Ddevice-width%2C%0A%20%20%20%20%20%20%20%20initial-scale%3D1.0%2C%20maximum-scale%3D1.0%2C%20user-scalable%3Dno%22%20/%3E%0A%20%20%20%20%3Cstyle%3E%23map_f0477cda7fe84f2a8332254b6bcb4043%20%7B%0A%20%20%20%20%20%20%20%20position%3A%20relative%3B%0A%20%20%20%20%20%20%20%20width%3A%20100.0%25%3B%0A%20%20%20%20%20%20%20%20height%3A%20100.0%25%3B%0A%20%20%20%20%20%20%20%20left%3A%200.0%25%3B%0A%20%20%20%20%20%20%20%20top%3A%200.0%25%3B%0A%20%20%20%20%20%20%20%20%7D%0A%20%20%20%20%3C/style%3E%0A%3C/head%3E%0A%3Cbody%3E%20%20%20%20%0A%20%20%20%20%0A%20%20%20%20%3Cdiv%20class%3D%22folium-map%22%20id%3D%22map_f0477cda7fe84f2a8332254b6bcb4043%22%20%3E%3C/div%3E%0A%3C/body%3E%0A%3Cscript%3E%20%20%20%20%0A%20%20%20%20%0A%20%20%20%20%0A%20%20%20%20%20%20%20%20var%20bounds%20%3D%20null%3B%0A%20%20%20%20%0A%0A%20%20%20%20var%20map_f0477cda7fe84f2a8332254b6bcb4043%20%3D%20L.map%28%0A%20%20%20%20%20%20%20%20%27map_f0477cda7fe84f2a8332254b6bcb4043%27%2C%20%7B%0A%20%20%20%20%20%20%20%20center%3A%20%5B41.545092947651455%2C%20-8.432370000002813%5D%2C%0A%20%20%20%20%20%20%20%20zoom%3A%2012%2C%0A%20%20%20%20%20%20%20%20maxBounds%3A%20bounds%2C%0A%20%20%20%20%20%20%20%20layers%3A%20%5B%5D%2C%0A%20%20%20%20%20%20%20%20worldCopyJump%3A%20false%2C%0A%20%20%20%20%20%20%20%20crs%3A%20L.CRS.EPSG3857%2C%0A%20%20%20%20%20%20%20%20zoomControl%3A%20true%2C%0A%20%20%20%20%20%20%20%20%7D%29%3B%0A%0A%0A%20%20%20%20%0A%20%20%20%20var%20tile_layer_572e237d18fc4c8f8dd07cedac889b47%20%3D%20L.tileLayer%28%0A%20%20%20%20%20%20%20%20%27https%3A//%7Bs%7D.tile.openstreetmap.org/%7Bz%7D/%7Bx%7D/%7By%7D.png%27%2C%0A%20%20%20%20%20%20%20%20%7B%0A%20%20%20%20%20%20%20%20%22attribution%22%3A%20null%2C%0A%20%20%20%20%20%20%20%20%22detectRetina%22%3A%20false%2C%0A%20%20%20%20%20%20%20%20%22maxNativeZoom%22%3A%2018%2C%0A%20%20%20%20%20%20%20%20%22maxZoom%22%3A%2018%2C%0A%20%20%20%20%20%20%20%20%22minZoom%22%3A%200%2C%0A%20%20%20%20%20%20%20%20%22noWrap%22%3A%20false%2C%0A%20%20%20%20%20%20%20%20%22opacity%22%3A%201%2C%0A%20%20%20%20%20%20%20%20%22subdomains%22%3A%20%22abc%22%2C%0A%20%20%20%20%20%20%20%20%22tms%22%3A%20false%0A%7D%29.addTo%28map_f0477cda7fe84f2a8332254b6bcb4043%29%3B%0A%20%20%20%20var%20tile_layer_1bfeb0af8e7d40df92ee0c1e5fd68978%20%3D%20L.tileLayer%28%0A%20%20%20%20%20%20%20%20%27https%3A//earthengine.googleapis.com/v1alpha/projects/earthengine-legacy/maps/21a8c9f4c31c15524ae394231ffca465-6915fcd451b73aed12e126a27f17afd7/tiles/%7Bz%7D/%7Bx%7D/%7By%7D%27%2C%0A%20%20%20%20%20%20%20%20%7B%0A%20%20%20%20%20%20%20%20%22attribution%22%3A%20%22Map%20Data%20%26copy%3B%20%3Ca%20href%3D%5C%22https%3A//earthengine.google.com/%5C%22%3EGoogle%20Earth%20Engine%3C/a%3E%22%2C%0A%20%20%20%20%20%20%20%20%22detectRetina%22%3A%20false%2C%0A%20%20%20%20%20%20%20%20%22maxNativeZoom%22%3A%2018%2C%0A%20%20%20%20%20%20%20%20%22maxZoom%22%3A%2018%2C%0A%20%20%20%20%20%20%20%20%22minZoom%22%3A%200%2C%0A%20%20%20%20%20%20%20%20%22noWrap%22%3A%20false%2C%0A%20%20%20%20%20%20%20%20%22opacity%22%3A%201%2C%0A%20%20%20%20%20%20%20%20%22subdomains%22%3A%20%22abc%22%2C%0A%20%20%20%20%20%20%20%20%22tms%22%3A%20false%0A%7D%29.addTo%28map_f0477cda7fe84f2a8332254b6bcb4043%29%3B%0A%20%20%20%20%0A%20%20%20%20%20%20%20%20%20%20%20%20var%20layer_control_b4a47ac48c874a7f81ae6a9874eeff25%20%3D%20%7B%0A%20%20%20%20%20%20%20%20%20%20%20%20%20%20%20%20base_layers%20%3A%20%7B%20%22openstreetmap%22%20%3A%20tile_layer_572e237d18fc4c8f8dd07cedac889b47%2C%20%7D%2C%0A%20%20%20%20%20%20%20%20%20%20%20%20%20%20%20%20overlays%20%3A%20%7B%20%22FFA%22%20%3A%20tile_layer_1bfeb0af8e7d40df92ee0c1e5fd68978%2C%20%7D%0A%20%20%20%20%20%20%20%20%20%20%20%20%20%20%20%20%7D%3B%0A%20%20%20%20%20%20%20%20%20%20%20%20L.control.layers%28%0A%20%20%20%20%20%20%20%20%20%20%20%20%20%20%20%20layer_control_b4a47ac48c874a7f81ae6a9874eeff25.base_layers%2C%0A%20%20%20%20%20%20%20%20%20%20%20%20%20%20%20%20layer_control_b4a47ac48c874a7f81ae6a9874eeff25.overlays%2C%0A%20%20%20%20%20%20%20%20%20%20%20%20%20%20%20%20%7Bposition%3A%20%27topright%27%2C%0A%20%20%20%20%20%20%20%20%20%20%20%20%20%20%20%20%20collapsed%3A%20true%2C%0A%20%20%20%20%20%20%20%20%20%20%20%20%20%20%20%20%20autoZIndex%3A%20true%0A%20%20%20%20%20%20%20%20%20%20%20%20%20%20%20%20%7D%29.addTo%28map_f0477cda7fe84f2a8332254b6bcb4043%29%3B%0A%20%20%20%20%20%20%20%20%20%20%20%20%0A%20%20%20%20%20%20%20%20%0A%3C/script%3E onload=\"this.contentDocument.open();this.contentDocument.write(    decodeURIComponent(this.getAttribute('data-html')));this.contentDocument.close();\" allowfullscreen webkitallowfullscreen mozallowfullscreen></iframe></div></div>"
            ],
            "text/plain": [
              "<folium.folium.Map at 0x7f5543f46050>"
            ]
          },
          "metadata": {
            "tags": []
          }
        }
      ]
    },
    {
      "cell_type": "markdown",
      "metadata": {
        "id": "OfiLhlGYG7s9"
      },
      "source": [
        "Select the first two images and extract the VV bands"
      ]
    },
    {
      "cell_type": "code",
      "metadata": {
        "colab": {
          "base_uri": "https://localhost:8080/"
        },
        "id": "jE60LWBBZdp6",
        "outputId": "ebbc6143-4508-4467-91e9-73a8e2006abe"
      },
      "source": [
        "print(list_fl.get(0).getInfo())\n",
        "print(list_fl.get(1).getInfo())\n",
        "\n",
        "# get the VV bands from the first 2 images\n",
        "img1 = ee.Image(list_fl.get(0)).select('VV')\n",
        "img2 = ee.Image(list_fl.get(1)).select('VV')"
      ],
      "execution_count": 24,
      "outputs": [
        {
          "output_type": "stream",
          "text": [
            "{'type': 'Image', 'bands': [{'id': 'VV', 'data_type': {'type': 'PixelType', 'precision': 'float'}, 'dimensions': [1069, 967], 'origin': [10695, 10328], 'crs': 'EPSG:32629', 'crs_transform': [10, 0, 435052.7595017192, 0, -10, 4707541.725674396]}, {'id': 'VH', 'data_type': {'type': 'PixelType', 'precision': 'float'}, 'dimensions': [1069, 967], 'origin': [10695, 10328], 'crs': 'EPSG:32629', 'crs_transform': [10, 0, 435052.7595017192, 0, -10, 4707541.725674396]}, {'id': 'angle', 'data_type': {'type': 'PixelType', 'precision': 'float'}, 'dimensions': [2, 1], 'origin': [7, 4], 'crs': 'EPSG:32629', 'crs_transform': [12544.571910647908, -3932.910219436162, 468237.1994650785, 2358.069910827093, 20005.177920169197, 4493840.980013091]}], 'id': 'COPERNICUS/S1_GRD_FLOAT/S1A_IW_GRDH_1SDV_20141003T182728_20141003T182753_002669_002F8C_007B', 'version': 1551554364027129, 'properties': {'system:footprint': {'type': 'Polygon', 'coordinates': [[[-8.496059999999998, 41.50188], [-8.36868, 41.50187999999999], [-8.368679999999998, 41.58829], [-8.496059999999998, 41.58829000000001], [-8.496059999999998, 41.50188]]]}, 'SNAP_Graph_Processing_Framework_GPF_vers': '6.0.4', 'SLC_Processing_facility_org': 'Airbus DS', 'SLC_Processing_facility_country': 'United Kingdom', 'GRD_Post_Processing_facility_org': 'Airbus DS', 'transmitterReceiverPolarisation': ['VV', 'VH'], 'GRD_Post_Processing_start': 1412382505010, 'sliceNumber': 6, 'GRD_Post_Processing_facility_name': 'UPA_', 'resolution': 'H', 'SLC_Processing_facility_name': 'UPA_', 'familyName': 'SENTINEL-1', 'segmentStartTime': 1412360719880, 'missionDataTakeID': 12172, 'GRD_Post_Processing_facility_country': 'United Kingdom', 'nssdcIdentifier': '0000-000A', 'productClass': 'S', 'phaseIdentifier': 1, 'orbitProperties_pass': 'ASCENDING', 'relativeOrbitNumber_stop': 149, 'system:time_end': 1412360848350, 'SLC_Processing_facility_site': 'Farnborough', 'GRD_Post_Processing_stop': 1412383309000, 'system:time_start': 1412360848350, 'instrumentMode': 'IW', 'totalSlices': 8, 'SLC_Processing_stop': 1412383104000, 'startTimeANX': 661041.3, 'SLC_Processing_start': 1412382635000, 'resolution_meters': 10, 'instrumentSwath': 'IW', 'relativeOrbitNumber_start': 149, 'productTimelinessCategory': 'Fast-24h', 'SLC_Processing_software_name': 'Sentinel-1 IPF', 'sliceProductFlag': 'true', 'S1TBX_Calibration_vers': '6.0.4', 'orbitNumber_start': 2669, 'GRD_Post_Processing_facility_site': 'Farnborough', 'instrument': 'Synthetic Aperture Radar', 'GRD_Post_Processing_software_name': 'Sentinel-1 IPF', 'platform_number': 'A', 'S1TBX_SAR_Processing_vers': '6.0.4', 'productType': 'GRD', 'orbitProperties_ascendingNodeTime': 1412360187310, 'stopTimeANX': 686039.1, 'productComposition': 'Slice', 'productClassDescription': 'SAR Standard L1 Product', 'GRD_Post_Processing_software_version': '002.36', 'SLC_Processing_software_version': '002.36', 'orbitNumber_stop': 2669, 'instrumentConfigurationID': 3, 'system:asset_size': 4046280556, 'cycleNumber': 16, 'system:index': 'S1A_IW_GRDH_1SDV_20141003T182728_20141003T182753_002669_002F8C_007B'}}\n",
            "{'type': 'Image', 'bands': [{'id': 'VV', 'data_type': {'type': 'PixelType', 'precision': 'float'}, 'dimensions': [1069, 967], 'origin': [10696, 10328], 'crs': 'EPSG:32629', 'crs_transform': [10, 0, 435040.42988681584, 0, -10, 4707541.141850538]}, {'id': 'VH', 'data_type': {'type': 'PixelType', 'precision': 'float'}, 'dimensions': [1069, 967], 'origin': [10696, 10328], 'crs': 'EPSG:32629', 'crs_transform': [10, 0, 435040.42988681584, 0, -10, 4707541.141850538]}, {'id': 'angle', 'data_type': {'type': 'PixelType', 'precision': 'float'}, 'dimensions': [2, 1], 'origin': [7, 4], 'crs': 'EPSG:32629', 'crs_transform': [12544.58205188124, -3924.593257161265, 468222.04015991656, 2358.0444203484803, 20006.811278691515, 4493837.936542932]}], 'id': 'COPERNICUS/S1_GRD_FLOAT/S1A_IW_GRDH_1SDV_20141015T182728_20141015T182753_002844_003351_E49B', 'version': 1551558325594130.0, 'properties': {'system:footprint': {'type': 'Polygon', 'coordinates': [[[-8.496059999999998, 41.50188], [-8.36868, 41.50187999999999], [-8.368679999999998, 41.58829], [-8.496059999999998, 41.58829000000001], [-8.496059999999998, 41.50188]]]}, 'SNAP_Graph_Processing_Framework_GPF_vers': '6.0.4', 'SLC_Processing_facility_org': 'Airbus DS', 'SLC_Processing_facility_country': 'United Kingdom', 'GRD_Post_Processing_facility_org': 'Airbus DS', 'transmitterReceiverPolarisation': ['VV', 'VH'], 'GRD_Post_Processing_start': 1413411726400, 'sliceNumber': 6, 'GRD_Post_Processing_facility_name': 'UPA_', 'resolution': 'H', 'SLC_Processing_facility_name': 'UPA_', 'familyName': 'SENTINEL-1', 'segmentStartTime': 1413397519920, 'missionDataTakeID': 13137, 'GRD_Post_Processing_facility_country': 'United Kingdom', 'nssdcIdentifier': '0000-000A', 'productClass': 'S', 'phaseIdentifier': 1, 'orbitProperties_pass': 'ASCENDING', 'relativeOrbitNumber_stop': 147, 'system:time_end': 1413397648380, 'SLC_Processing_facility_site': 'Farnborough', 'GRD_Post_Processing_stop': 1413412573000, 'system:time_start': 1413397648380, 'instrumentMode': 'IW', 'totalSlices': 8, 'SLC_Processing_stop': 1413412351000, 'startTimeANX': 661042.4, 'SLC_Processing_start': 1413411862000, 'resolution_meters': 10, 'instrumentSwath': 'IW', 'relativeOrbitNumber_start': 147, 'productTimelinessCategory': 'Fast-24h', 'SLC_Processing_software_name': 'Sentinel-1 IPF', 'sliceProductFlag': 'true', 'S1TBX_Calibration_vers': '6.0.4', 'orbitNumber_start': 2844, 'GRD_Post_Processing_facility_site': 'Farnborough', 'instrument': 'Synthetic Aperture Radar', 'GRD_Post_Processing_software_name': 'Sentinel-1 IPF', 'platform_number': 'A', 'S1TBX_SAR_Processing_vers': '6.0.4', 'productType': 'GRD', 'orbitProperties_ascendingNodeTime': 1413396987340, 'stopTimeANX': 686040.2, 'productComposition': 'Slice', 'productClassDescription': 'SAR Standard L1 Product', 'GRD_Post_Processing_software_version': '002.36', 'SLC_Processing_software_version': '002.36', 'orbitNumber_stop': 2844, 'instrumentConfigurationID': 3, 'system:asset_size': 4042570552, 'cycleNumber': 30, 'system:index': 'S1A_IW_GRDH_1SDV_20141015T182728_20141015T182753_002844_003351_E49B'}}\n"
          ],
          "name": "stdout"
        }
      ]
    },
    {
      "cell_type": "markdown",
      "metadata": {
        "id": "H_1iyBGAHel5"
      },
      "source": [
        "Build the ratio of the VV bands and display it"
      ]
    },
    {
      "cell_type": "code",
      "metadata": {
        "colab": {
          "base_uri": "https://localhost:8080/",
          "height": 745
        },
        "id": "8_y5kEBqZdp6",
        "outputId": "4bf1724f-0dae-42a8-9313-95944290ce9e"
      },
      "source": [
        "ratio = img1.divide(img2)\n",
        "url = ratio.getThumbURL({'min': 0, 'max': 10})\n",
        "disp.Image(url=url, width=800)"
      ],
      "execution_count": 25,
      "outputs": [
        {
          "output_type": "execute_result",
          "data": {
            "text/html": [
              "<img src=\"https://earthengine.googleapis.com/v1alpha/projects/earthengine-legacy/thumbnails/7321a3dfbb06f14b1783192ad3fd95bb-b4fddc36d8833b77046e34fccb621507:getPixels\" width=\"800\"/>"
            ],
            "text/plain": [
              "<IPython.core.display.Image object>"
            ]
          },
          "metadata": {
            "tags": []
          },
          "execution_count": 25
        }
      ]
    },
    {
      "cell_type": "code",
      "metadata": {
        "id": "uKOLDRWoZdp6"
      },
      "source": [
        "hist = ratio.reduceRegion(ee.Reducer.fixedHistogram(0, 5, 500), aoi).get('VV').getInfo()\n",
        "mean = ratio.reduceRegion(ee.Reducer.mean(), aoi).get('VV').getInfo()\n",
        "variance = ratio.reduceRegion(ee.Reducer.variance(), aoi).get('VV').getInfo()"
      ],
      "execution_count": 33,
      "outputs": []
    },
    {
      "cell_type": "markdown",
      "metadata": {
        "id": "3wD8ZH91J6iF"
      },
      "source": [
        "Plot of the (normalized) histogram"
      ]
    },
    {
      "cell_type": "code",
      "metadata": {
        "colab": {
          "base_uri": "https://localhost:8080/",
          "height": 265
        },
        "id": "ZGxxz9C6Zdp6",
        "outputId": "87cb86cb-ae5b-426d-84bc-357968dba22a"
      },
      "source": [
        "a = np.array(hist)\n",
        "x = a[:, 0]\n",
        "y = a[:, 1] / np.sum(a[:, 1])\n",
        "plt.grid()\n",
        "plt.plot(x, y, '.')\n",
        "plt.show()"
      ],
      "execution_count": 34,
      "outputs": [
        {
          "output_type": "display_data",
          "data": {
            "image/png": "[encoded data removed]",
            "text/plain": [
              "<Figure size 432x288 with 1 Axes>"
            ]
          },
          "metadata": {
            "tags": [],
            "needs_background": "light"
          }
        }
      ]
    },
    {
      "cell_type": "code",
      "metadata": {
        "colab": {
          "base_uri": "https://localhost:8080/",
          "height": 265
        },
        "id": "BMlZDxPJZdp6",
        "outputId": "85d8f80e-399f-4a46-f0f6-8a22d1fb0710"
      },
      "source": [
        "m = 5\n",
        "plt.grid()\n",
        "plt.plot(x, y, '.', label='data')\n",
        "plt.plot(x, f.pdf(x, 2*m, 2*m) / 100, '-r', label='F-dist')\n",
        "plt.legend()\n",
        "plt.show()"
      ],
      "execution_count": null,
      "outputs": [
        {
          "output_type": "display_data",
          "data": {
            "image/png": "[encoded data removed]",
            "text/plain": [
              "<Figure size 432x288 with 1 Axes>"
            ]
          },
          "metadata": {
            "tags": [],
            "needs_background": "light"
          }
        }
      ]
    },
    {
      "cell_type": "code",
      "metadata": {
        "colab": {
          "base_uri": "https://localhost:8080/"
        },
        "id": "c6Mx7aqcZdp7",
        "outputId": "df9622eb-de17-465a-baa7-349fb1fbcdf0"
      },
      "source": [
        "print(mean, m/(m-1))\n",
        "print(variance, m*(2*m-1)/(m-1)**2/(m-2))"
      ],
      "execution_count": null,
      "outputs": [
        {
          "output_type": "stream",
          "text": [
            "0.7559506009646411 1.25\n",
            "0.41362454410324156 0.9375\n"
          ],
          "name": "stdout"
        }
      ]
    },
    {
      "cell_type": "code",
      "metadata": {
        "colab": {
          "base_uri": "https://localhost:8080/",
          "height": 1000
        },
        "id": "ZzH2DuvBZdp7",
        "outputId": "30ba85cb-5902-4c18-b273-932021b5fb3a"
      },
      "source": [
        "location = aoi.centroid().coordinates().getInfo()[::-1]\n",
        "mp = folium.Map(location=location, zoom_start=12)\n",
        "mp.add_ee_layer(ratio,\n",
        "                {'min': 0, 'max': 20, 'palette': ['black', 'white']}, 'Ratio')\n",
        "mp.add_child(folium.LayerControl())\n",
        "\n",
        "display(mp)"
      ],
      "execution_count": 35,
      "outputs": [
        {
          "output_type": "display_data",
          "data": {
            "text/html": [
              "<div style=\"width:100%;\"><div style=\"position:relative;width:100%;height:0;padding-bottom:60%;\"><span style=\"color:#565656\">Make this Notebook Trusted to load map: File -> Trust Notebook</span><iframe src=\"about:blank\" style=\"position:absolute;width:100%;height:100%;left:0;top:0;border:none !important;\" data-html=%3C%21DOCTYPE%20html%3E%0A%3Chead%3E%20%20%20%20%0A%20%20%20%20%3Cmeta%20http-equiv%3D%22content-type%22%20content%3D%22text/html%3B%20charset%3DUTF-8%22%20/%3E%0A%20%20%20%20%3Cscript%3EL_PREFER_CANVAS%3Dfalse%3B%20L_NO_TOUCH%3Dfalse%3B%20L_DISABLE_3D%3Dfalse%3B%3C/script%3E%0A%20%20%20%20%3Cscript%20src%3D%22https%3A//cdn.jsdelivr.net/npm/leaflet%401.4.0/dist/leaflet.js%22%3E%3C/script%3E%0A%20%20%20%20%3Cscript%20src%3D%22https%3A//code.jquery.com/jquery-1.12.4.min.js%22%3E%3C/script%3E%0A%20%20%20%20%3Cscript%20src%3D%22https%3A//maxcdn.bootstrapcdn.com/bootstrap/3.2.0/js/bootstrap.min.js%22%3E%3C/script%3E%0A%20%20%20%20%3Cscript%20src%3D%22https%3A//cdnjs.cloudflare.com/ajax/libs/Leaflet.awesome-markers/2.0.2/leaflet.awesome-markers.js%22%3E%3C/script%3E%0A%20%20%20%20%3Clink%20rel%3D%22stylesheet%22%20href%3D%22https%3A//cdn.jsdelivr.net/npm/leaflet%401.4.0/dist/leaflet.css%22/%3E%0A%20%20%20%20%3Clink%20rel%3D%22stylesheet%22%20href%3D%22https%3A//maxcdn.bootstrapcdn.com/bootstrap/3.2.0/css/bootstrap.min.css%22/%3E%0A%20%20%20%20%3Clink%20rel%3D%22stylesheet%22%20href%3D%22https%3A//maxcdn.bootstrapcdn.com/bootstrap/3.2.0/css/bootstrap-theme.min.css%22/%3E%0A%20%20%20%20%3Clink%20rel%3D%22stylesheet%22%20href%3D%22https%3A//maxcdn.bootstrapcdn.com/font-awesome/4.6.3/css/font-awesome.min.css%22/%3E%0A%20%20%20%20%3Clink%20rel%3D%22stylesheet%22%20href%3D%22https%3A//cdnjs.cloudflare.com/ajax/libs/Leaflet.awesome-markers/2.0.2/leaflet.awesome-markers.css%22/%3E%0A%20%20%20%20%3Clink%20rel%3D%22stylesheet%22%20href%3D%22https%3A//rawcdn.githack.com/python-visualization/folium/master/folium/templates/leaflet.awesome.rotate.css%22/%3E%0A%20%20%20%20%3Cstyle%3Ehtml%2C%20body%20%7Bwidth%3A%20100%25%3Bheight%3A%20100%25%3Bmargin%3A%200%3Bpadding%3A%200%3B%7D%3C/style%3E%0A%20%20%20%20%3Cstyle%3E%23map%20%7Bposition%3Aabsolute%3Btop%3A0%3Bbottom%3A0%3Bright%3A0%3Bleft%3A0%3B%7D%3C/style%3E%0A%20%20%20%20%0A%20%20%20%20%3Cmeta%20name%3D%22viewport%22%20content%3D%22width%3Ddevice-width%2C%0A%20%20%20%20%20%20%20%20initial-scale%3D1.0%2C%20maximum-scale%3D1.0%2C%20user-scalable%3Dno%22%20/%3E%0A%20%20%20%20%3Cstyle%3E%23map_a6b830f38e654f9181eab9149b26bb69%20%7B%0A%20%20%20%20%20%20%20%20position%3A%20relative%3B%0A%20%20%20%20%20%20%20%20width%3A%20100.0%25%3B%0A%20%20%20%20%20%20%20%20height%3A%20100.0%25%3B%0A%20%20%20%20%20%20%20%20left%3A%200.0%25%3B%0A%20%20%20%20%20%20%20%20top%3A%200.0%25%3B%0A%20%20%20%20%20%20%20%20%7D%0A%20%20%20%20%3C/style%3E%0A%3C/head%3E%0A%3Cbody%3E%20%20%20%20%0A%20%20%20%20%0A%20%20%20%20%3Cdiv%20class%3D%22folium-map%22%20id%3D%22map_a6b830f38e654f9181eab9149b26bb69%22%20%3E%3C/div%3E%0A%3C/body%3E%0A%3Cscript%3E%20%20%20%20%0A%20%20%20%20%0A%20%20%20%20%0A%20%20%20%20%20%20%20%20var%20bounds%20%3D%20null%3B%0A%20%20%20%20%0A%0A%20%20%20%20var%20map_a6b830f38e654f9181eab9149b26bb69%20%3D%20L.map%28%0A%20%20%20%20%20%20%20%20%27map_a6b830f38e654f9181eab9149b26bb69%27%2C%20%7B%0A%20%20%20%20%20%20%20%20center%3A%20%5B41.545092947651455%2C%20-8.432370000002813%5D%2C%0A%20%20%20%20%20%20%20%20zoom%3A%2012%2C%0A%20%20%20%20%20%20%20%20maxBounds%3A%20bounds%2C%0A%20%20%20%20%20%20%20%20layers%3A%20%5B%5D%2C%0A%20%20%20%20%20%20%20%20worldCopyJump%3A%20false%2C%0A%20%20%20%20%20%20%20%20crs%3A%20L.CRS.EPSG3857%2C%0A%20%20%20%20%20%20%20%20zoomControl%3A%20true%2C%0A%20%20%20%20%20%20%20%20%7D%29%3B%0A%0A%0A%20%20%20%20%0A%20%20%20%20var%20tile_layer_152123def3d3461c8178cb4f460bf551%20%3D%20L.tileLayer%28%0A%20%20%20%20%20%20%20%20%27https%3A//%7Bs%7D.tile.openstreetmap.org/%7Bz%7D/%7Bx%7D/%7By%7D.png%27%2C%0A%20%20%20%20%20%20%20%20%7B%0A%20%20%20%20%20%20%20%20%22attribution%22%3A%20null%2C%0A%20%20%20%20%20%20%20%20%22detectRetina%22%3A%20false%2C%0A%20%20%20%20%20%20%20%20%22maxNativeZoom%22%3A%2018%2C%0A%20%20%20%20%20%20%20%20%22maxZoom%22%3A%2018%2C%0A%20%20%20%20%20%20%20%20%22minZoom%22%3A%200%2C%0A%20%20%20%20%20%20%20%20%22noWrap%22%3A%20false%2C%0A%20%20%20%20%20%20%20%20%22opacity%22%3A%201%2C%0A%20%20%20%20%20%20%20%20%22subdomains%22%3A%20%22abc%22%2C%0A%20%20%20%20%20%20%20%20%22tms%22%3A%20false%0A%7D%29.addTo%28map_a6b830f38e654f9181eab9149b26bb69%29%3B%0A%20%20%20%20var%20tile_layer_debd271c6caf4a0f874015dc1545103c%20%3D%20L.tileLayer%28%0A%20%20%20%20%20%20%20%20%27https%3A//earthengine.googleapis.com/v1alpha/projects/earthengine-legacy/maps/2df84e5a107046d97923171fbf23822c-f12d1efe290b4f151c8b9891ef25aa6d/tiles/%7Bz%7D/%7Bx%7D/%7By%7D%27%2C%0A%20%20%20%20%20%20%20%20%7B%0A%20%20%20%20%20%20%20%20%22attribution%22%3A%20%22Map%20Data%20%26copy%3B%20%3Ca%20href%3D%5C%22https%3A//earthengine.google.com/%5C%22%3EGoogle%20Earth%20Engine%3C/a%3E%22%2C%0A%20%20%20%20%20%20%20%20%22detectRetina%22%3A%20false%2C%0A%20%20%20%20%20%20%20%20%22maxNativeZoom%22%3A%2018%2C%0A%20%20%20%20%20%20%20%20%22maxZoom%22%3A%2018%2C%0A%20%20%20%20%20%20%20%20%22minZoom%22%3A%200%2C%0A%20%20%20%20%20%20%20%20%22noWrap%22%3A%20false%2C%0A%20%20%20%20%20%20%20%20%22opacity%22%3A%201%2C%0A%20%20%20%20%20%20%20%20%22subdomains%22%3A%20%22abc%22%2C%0A%20%20%20%20%20%20%20%20%22tms%22%3A%20false%0A%7D%29.addTo%28map_a6b830f38e654f9181eab9149b26bb69%29%3B%0A%20%20%20%20%0A%20%20%20%20%20%20%20%20%20%20%20%20var%20layer_control_c2bd57f99e224c4ba48cc61ac51df993%20%3D%20%7B%0A%20%20%20%20%20%20%20%20%20%20%20%20%20%20%20%20base_layers%20%3A%20%7B%20%22openstreetmap%22%20%3A%20tile_layer_152123def3d3461c8178cb4f460bf551%2C%20%7D%2C%0A%20%20%20%20%20%20%20%20%20%20%20%20%20%20%20%20overlays%20%3A%20%7B%20%22Ratio%22%20%3A%20tile_layer_debd271c6caf4a0f874015dc1545103c%2C%20%7D%0A%20%20%20%20%20%20%20%20%20%20%20%20%20%20%20%20%7D%3B%0A%20%20%20%20%20%20%20%20%20%20%20%20L.control.layers%28%0A%20%20%20%20%20%20%20%20%20%20%20%20%20%20%20%20layer_control_c2bd57f99e224c4ba48cc61ac51df993.base_layers%2C%0A%20%20%20%20%20%20%20%20%20%20%20%20%20%20%20%20layer_control_c2bd57f99e224c4ba48cc61ac51df993.overlays%2C%0A%20%20%20%20%20%20%20%20%20%20%20%20%20%20%20%20%7Bposition%3A%20%27topright%27%2C%0A%20%20%20%20%20%20%20%20%20%20%20%20%20%20%20%20%20collapsed%3A%20true%2C%0A%20%20%20%20%20%20%20%20%20%20%20%20%20%20%20%20%20autoZIndex%3A%20true%0A%20%20%20%20%20%20%20%20%20%20%20%20%20%20%20%20%7D%29.addTo%28map_a6b830f38e654f9181eab9149b26bb69%29%3B%0A%20%20%20%20%20%20%20%20%20%20%20%20%0A%20%20%20%20%20%20%20%20%0A%3C/script%3E onload=\"this.contentDocument.open();this.contentDocument.write(    decodeURIComponent(this.getAttribute('data-html')));this.contentDocument.close();\" allowfullscreen webkitallowfullscreen mozallowfullscreen></iframe></div></div>"
            ],
            "text/plain": [
              "<folium.folium.Map at 0x7f5542b82990>"
            ]
          },
          "metadata": {
            "tags": []
          }
        }
      ]
    }
  ]
}