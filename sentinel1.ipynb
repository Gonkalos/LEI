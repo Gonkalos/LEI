{
  "nbformat": 4,
  "nbformat_minor": 0,
  "metadata": {
    "colab": {
      "name": "change_detection.ipynb",
      "provenance": [],
      "collapsed_sections": []
    },
    "kernelspec": {
      "display_name": "Python 3",
      "name": "python3"
    },
    "language_info": {
      "name": "python"
    }
  },
  "cells": [
    {
      "cell_type": "markdown",
      "metadata": {
        "id": "3sbN5ESqh6QK"
      },
      "source": [
        "Initialize Google Earth Engine API"
      ]
    },
    {
      "cell_type": "code",
      "metadata": {
        "colab": {
          "base_uri": "https://localhost:8080/"
        },
        "id": "Th6366lYh2Kp",
        "outputId": "13220b83-9551-411b-96b7-90246ce7639b"
      },
      "source": [
        "import ee\n",
        "\n",
        "# trigger the authentication flow\n",
        "ee.Authenticate()\n",
        "\n",
        "# initialize the library\n",
        "ee.Initialize()"
      ],
      "execution_count": 1,
      "outputs": [
        {
          "output_type": "stream",
          "text": [
            "To authorize access needed by Earth Engine, open the following URL in a web browser and follow the instructions. If the web browser does not start automatically, please manually browse the URL below.\n",
            "\n",
            "    https://accounts.google.com/o/oauth2/auth?client_id=517222506229-vsmmajv00ul0bs7p89v5m89qs8eb9359.apps.googleusercontent.com&scope=https%3A%2F%2Fwww.googleapis.com%2Fauth%2Fearthengine+https%3A%2F%2Fwww.googleapis.com%2Fauth%2Fdevstorage.full_control&redirect_uri=urn%3Aietf%3Awg%3Aoauth%3A2.0%3Aoob&response_type=code&code_challenge=3XtO_nuQDBEDt4IpZmMAcgGsvYdGgYezdruN3-2ES6Q&code_challenge_method=S256\n",
            "\n",
            "The authorization workflow will generate a code, which you should paste in the box below. \n",
            "Enter verification code: 4/1AY0e-g6pb1wdy8XDgDzuamTpRUln4hqPbqPMmOn4wXBjmbGqwfSH5x_SwVQ\n",
            "\n",
            "Successfully saved authorization token.\n"
          ],
          "name": "stdout"
        }
      ]
    },
    {
      "cell_type": "markdown",
      "metadata": {
        "id": "na39Be12iAYq"
      },
      "source": [
        "Import some python modules and enable inline graphics"
      ]
    },
    {
      "cell_type": "code",
      "metadata": {
        "id": "zvT-tCCViBwq"
      },
      "source": [
        "import numpy as np\n",
        "import matplotlib.pyplot as plt\n",
        "from scipy.stats import norm, gamma, f, chi2\n",
        "import IPython.display as disp\n",
        "%matplotlib inline"
      ],
      "execution_count": 2,
      "outputs": []
    },
    {
      "cell_type": "markdown",
      "metadata": {
        "id": "aRIa85igmmoJ"
      },
      "source": [
        "Make use of interactive maps with the package Folium"
      ]
    },
    {
      "cell_type": "code",
      "metadata": {
        "id": "M2R8eOuumpNi"
      },
      "source": [
        "# import the Folium library.\n",
        "import folium\n",
        "\n",
        "# define a method for displaying Earth Engine image tiles to folium map.\n",
        "def add_ee_layer(self, ee_image_object, vis_params, name):\n",
        "  map_id_dict = ee.Image(ee_image_object).getMapId(vis_params)\n",
        "  folium.raster_layers.TileLayer(\n",
        "    tiles = map_id_dict['tile_fetcher'].url_format,\n",
        "    attr = 'Map Data &copy; <a href=\"https://earthengine.google.com/\">Google Earth Engine</a>',\n",
        "    name = name,\n",
        "    overlay = True,\n",
        "    control = True\n",
        "  ).add_to(self)\n",
        "\n",
        "# add EE drawing method to folium.\n",
        "folium.Map.add_ee_layer = add_ee_layer"
      ],
      "execution_count": 3,
      "outputs": []
    },
    {
      "cell_type": "markdown",
      "metadata": {
        "id": "Mz89CT9wiVgS"
      },
      "source": [
        "Define the region of interest with GeoJSON"
      ]
    },
    {
      "cell_type": "code",
      "metadata": {
        "id": "MsPyt-zgiIzd"
      },
      "source": [
        "coords = [-8.49606, 41.49750, -8.36868, 41.59050]\n",
        "\n",
        "geoJSON = {\n",
        "    \"type\": \"Feature\",\n",
        "    \"properties\": {},\n",
        "    \"geometry\": {\n",
        "        \"type\": \"Polygon\",\n",
        "        \"coordinates\": coords\n",
        "    }\n",
        "}\n",
        "\n",
        "aoi = ee.Geometry.Rectangle(coords)"
      ],
      "execution_count": 4,
      "outputs": []
    },
    {
      "cell_type": "markdown",
      "metadata": {
        "id": "uyvde1ociZS_"
      },
      "source": [
        "Get the image collection from the Google Earth Engine archives"
      ]
    },
    {
      "cell_type": "code",
      "metadata": {
        "id": "qcsoexsuib_p"
      },
      "source": [
        "coll_fl = (ee.ImageCollection('COPERNICUS/S1_GRD_FLOAT')                   # specify image archive\n",
        "                .filterBounds(aoi)                                         # specify area on interest\n",
        "                .filterDate(ee.Date('2014-01-01'),ee.Date('2021-01-01'))   # specify time period\n",
        "                .filter(ee.Filter.eq('orbitProperties_pass', 'ASCENDING')) # specify orbit pass \n",
        "                #.filter(ee.Filter.eq('relativeOrbitNumber_start', 15))     # specify relative orbit number \n",
        "                .sort('system:time_start'))                                # sort by date\n",
        "\n",
        "# log-scaled collection\n",
        "coll_ls = (ee.ImageCollection('COPERNICUS/S1_GRD')                         # specify image archive\n",
        "                .filterBounds(aoi)                                         # specify area on interest\n",
        "                .filterDate(ee.Date('2014-01-01'),ee.Date('2021-01-01'))   # specify time period\n",
        "                .filter(ee.Filter.eq('orbitProperties_pass', 'ASCENDING')) # specify orbit pass \n",
        "                #.filter(ee.Filter.eq('relativeOrbitNumber_start', 15))     # specify relative orbit number \n",
        "                .sort('system:time_start'))                                # sort by date"
      ],
      "execution_count": 5,
      "outputs": []
    },
    {
      "cell_type": "markdown",
      "metadata": {
        "id": "DA-elgzhilWL"
      },
      "source": [
        "Get collection as a list and clip all images to the area of interest"
      ]
    },
    {
      "cell_type": "code",
      "metadata": {
        "colab": {
          "base_uri": "https://localhost:8080/"
        },
        "id": "80toKrniil7z",
        "outputId": "381ea2f1-0106-4e86-9478-d5135a1961b9"
      },
      "source": [
        "# get the image collection as a list\n",
        "list_fl = coll_fl.toList(coll_fl.size())\n",
        "list_ls = coll_ls.toList(coll_ls.size())\n",
        "\n",
        "print('Number of images available:', list_fl.length().getInfo())\n",
        "\n",
        "# clip an image to the area of interest\n",
        "def clip_img(img):\n",
        "  return ee.Image(img).clip(aoi)\n",
        "\n",
        "# clip all images to the area of interest\n",
        "list_fl = ee.List(list_fl.map(clip_img))\n",
        "list_ls = ee.List(list_ls.map(clip_img))"
      ],
      "execution_count": 6,
      "outputs": [
        {
          "output_type": "stream",
          "text": [
            "Number of images available: 313\n"
          ],
          "name": "stdout"
        }
      ]
    },
    {
      "cell_type": "markdown",
      "metadata": {
        "id": "sG7gpVnMm7xq"
      },
      "source": [
        "Display first image"
      ]
    },
    {
      "cell_type": "code",
      "metadata": {
        "colab": {
          "base_uri": "https://localhost:8080/",
          "height": 799
        },
        "id": "1kzCZn8zm8PY",
        "outputId": "cf3c0dca-85db-453c-cc5c-a36fcc94930f"
      },
      "source": [
        "url = ee.Image(list_ls.get(0)).select('VV').getThumbURL({'min': -20, 'max': 0})\n",
        "disp.Image(url=url, width=800)"
      ],
      "execution_count": 7,
      "outputs": [
        {
          "output_type": "execute_result",
          "data": {
            "text/html": [
              "<img src=\"https://earthengine.googleapis.com/v1alpha/projects/earthengine-legacy/thumbnails/8c1ccc43b82b090556f4baac037fc65c-95c0f7f508996b0fa54957bdc61ded4c:getPixels\" width=\"800\"/>"
            ],
            "text/plain": [
              "<IPython.core.display.Image object>"
            ]
          },
          "metadata": {
            "tags": []
          },
          "execution_count": 7
        }
      ]
    },
    {
      "cell_type": "markdown",
      "metadata": {
        "id": "lUlMWCA7mzB9"
      },
      "source": [
        "Display first image as a RGB composite"
      ]
    },
    {
      "cell_type": "code",
      "metadata": {
        "id": "ktli6hDsm0qP",
        "colab": {
          "base_uri": "https://localhost:8080/",
          "height": 1000
        },
        "outputId": "4f4aa320-d52b-44be-eff0-c90ed20eefac"
      },
      "source": [
        "def displayImage(img):\n",
        "  url = img.select('VV').getThumbURL({'min': -20, 'max': 0})\n",
        "  disp.Image(url=url, width=800)\n",
        "  location = aoi.centroid().coordinates().getInfo()[::-1]\n",
        "  # Make an RGB color composite image (VV,VH,VV/VH).\n",
        "  rgb = ee.Image.rgb(img.select('VV'),\n",
        "                     img.select('VH'),\n",
        "                     img.select('VV').divide(img.select('VH')))\n",
        "  # Create the map object.\n",
        "  m = folium.Map(location=location, zoom_start=12)\n",
        "  # Add the S1 rgb composite to the map object.\n",
        "  m.add_ee_layer(rgb, {'min': [-20, -20, 0], 'max': [0, 0, 2]}, 'FFA')\n",
        "  # Add a layer control panel to the map.\n",
        "  m.add_child(folium.LayerControl())\n",
        "  # Display the map.\n",
        "  display(m)\n",
        "\n",
        "displayImage(ee.Image(list_ls.get(0)))"
      ],
      "execution_count": 8,
      "outputs": [
        {
          "output_type": "display_data",
          "data": {
            "text/html": [
              "<div style=\"width:100%;\"><div style=\"position:relative;width:100%;height:0;padding-bottom:60%;\"><span style=\"color:#565656\">Make this Notebook Trusted to load map: File -> Trust Notebook</span><iframe src=\"about:blank\" style=\"position:absolute;width:100%;height:100%;left:0;top:0;border:none !important;\" data-html=%3C%21DOCTYPE%20html%3E%0A%3Chead%3E%20%20%20%20%0A%20%20%20%20%3Cmeta%20http-equiv%3D%22content-type%22%20content%3D%22text/html%3B%20charset%3DUTF-8%22%20/%3E%0A%20%20%20%20%3Cscript%3EL_PREFER_CANVAS%3Dfalse%3B%20L_NO_TOUCH%3Dfalse%3B%20L_DISABLE_3D%3Dfalse%3B%3C/script%3E%0A%20%20%20%20%3Cscript%20src%3D%22https%3A//cdn.jsdelivr.net/npm/leaflet%401.4.0/dist/leaflet.js%22%3E%3C/script%3E%0A%20%20%20%20%3Cscript%20src%3D%22https%3A//code.jquery.com/jquery-1.12.4.min.js%22%3E%3C/script%3E%0A%20%20%20%20%3Cscript%20src%3D%22https%3A//maxcdn.bootstrapcdn.com/bootstrap/3.2.0/js/bootstrap.min.js%22%3E%3C/script%3E%0A%20%20%20%20%3Cscript%20src%3D%22https%3A//cdnjs.cloudflare.com/ajax/libs/Leaflet.awesome-markers/2.0.2/leaflet.awesome-markers.js%22%3E%3C/script%3E%0A%20%20%20%20%3Clink%20rel%3D%22stylesheet%22%20href%3D%22https%3A//cdn.jsdelivr.net/npm/leaflet%401.4.0/dist/leaflet.css%22/%3E%0A%20%20%20%20%3Clink%20rel%3D%22stylesheet%22%20href%3D%22https%3A//maxcdn.bootstrapcdn.com/bootstrap/3.2.0/css/bootstrap.min.css%22/%3E%0A%20%20%20%20%3Clink%20rel%3D%22stylesheet%22%20href%3D%22https%3A//maxcdn.bootstrapcdn.com/bootstrap/3.2.0/css/bootstrap-theme.min.css%22/%3E%0A%20%20%20%20%3Clink%20rel%3D%22stylesheet%22%20href%3D%22https%3A//maxcdn.bootstrapcdn.com/font-awesome/4.6.3/css/font-awesome.min.css%22/%3E%0A%20%20%20%20%3Clink%20rel%3D%22stylesheet%22%20href%3D%22https%3A//cdnjs.cloudflare.com/ajax/libs/Leaflet.awesome-markers/2.0.2/leaflet.awesome-markers.css%22/%3E%0A%20%20%20%20%3Clink%20rel%3D%22stylesheet%22%20href%3D%22https%3A//rawcdn.githack.com/python-visualization/folium/master/folium/templates/leaflet.awesome.rotate.css%22/%3E%0A%20%20%20%20%3Cstyle%3Ehtml%2C%20body%20%7Bwidth%3A%20100%25%3Bheight%3A%20100%25%3Bmargin%3A%200%3Bpadding%3A%200%3B%7D%3C/style%3E%0A%20%20%20%20%3Cstyle%3E%23map%20%7Bposition%3Aabsolute%3Btop%3A0%3Bbottom%3A0%3Bright%3A0%3Bleft%3A0%3B%7D%3C/style%3E%0A%20%20%20%20%0A%20%20%20%20%3Cmeta%20name%3D%22viewport%22%20content%3D%22width%3Ddevice-width%2C%0A%20%20%20%20%20%20%20%20initial-scale%3D1.0%2C%20maximum-scale%3D1.0%2C%20user-scalable%3Dno%22%20/%3E%0A%20%20%20%20%3Cstyle%3E%23map_92db7c62f81d425eb8d57cec618a420c%20%7B%0A%20%20%20%20%20%20%20%20position%3A%20relative%3B%0A%20%20%20%20%20%20%20%20width%3A%20100.0%25%3B%0A%20%20%20%20%20%20%20%20height%3A%20100.0%25%3B%0A%20%20%20%20%20%20%20%20left%3A%200.0%25%3B%0A%20%20%20%20%20%20%20%20top%3A%200.0%25%3B%0A%20%20%20%20%20%20%20%20%7D%0A%20%20%20%20%3C/style%3E%0A%3C/head%3E%0A%3Cbody%3E%20%20%20%20%0A%20%20%20%20%0A%20%20%20%20%3Cdiv%20class%3D%22folium-map%22%20id%3D%22map_92db7c62f81d425eb8d57cec618a420c%22%20%3E%3C/div%3E%0A%3C/body%3E%0A%3Cscript%3E%20%20%20%20%0A%20%20%20%20%0A%20%20%20%20%0A%20%20%20%20%20%20%20%20var%20bounds%20%3D%20null%3B%0A%20%20%20%20%0A%0A%20%20%20%20var%20map_92db7c62f81d425eb8d57cec618a420c%20%3D%20L.map%28%0A%20%20%20%20%20%20%20%20%27map_92db7c62f81d425eb8d57cec618a420c%27%2C%20%7B%0A%20%20%20%20%20%20%20%20center%3A%20%5B41.54400642419996%2C%20-8.432370000003475%5D%2C%0A%20%20%20%20%20%20%20%20zoom%3A%2012%2C%0A%20%20%20%20%20%20%20%20maxBounds%3A%20bounds%2C%0A%20%20%20%20%20%20%20%20layers%3A%20%5B%5D%2C%0A%20%20%20%20%20%20%20%20worldCopyJump%3A%20false%2C%0A%20%20%20%20%20%20%20%20crs%3A%20L.CRS.EPSG3857%2C%0A%20%20%20%20%20%20%20%20zoomControl%3A%20true%2C%0A%20%20%20%20%20%20%20%20%7D%29%3B%0A%0A%0A%20%20%20%20%0A%20%20%20%20var%20tile_layer_e022c749f8274b6588c75e35712b0c3f%20%3D%20L.tileLayer%28%0A%20%20%20%20%20%20%20%20%27https%3A//%7Bs%7D.tile.openstreetmap.org/%7Bz%7D/%7Bx%7D/%7By%7D.png%27%2C%0A%20%20%20%20%20%20%20%20%7B%0A%20%20%20%20%20%20%20%20%22attribution%22%3A%20null%2C%0A%20%20%20%20%20%20%20%20%22detectRetina%22%3A%20false%2C%0A%20%20%20%20%20%20%20%20%22maxNativeZoom%22%3A%2018%2C%0A%20%20%20%20%20%20%20%20%22maxZoom%22%3A%2018%2C%0A%20%20%20%20%20%20%20%20%22minZoom%22%3A%200%2C%0A%20%20%20%20%20%20%20%20%22noWrap%22%3A%20false%2C%0A%20%20%20%20%20%20%20%20%22opacity%22%3A%201%2C%0A%20%20%20%20%20%20%20%20%22subdomains%22%3A%20%22abc%22%2C%0A%20%20%20%20%20%20%20%20%22tms%22%3A%20false%0A%7D%29.addTo%28map_92db7c62f81d425eb8d57cec618a420c%29%3B%0A%20%20%20%20var%20tile_layer_e9606d85fc284fe085f43b7a26f399cb%20%3D%20L.tileLayer%28%0A%20%20%20%20%20%20%20%20%27https%3A//earthengine.googleapis.com/v1alpha/projects/earthengine-legacy/maps/ca53a56a3b899a4817e802310b38450d-5d595272425f0cdd73b2691b5abe7532/tiles/%7Bz%7D/%7Bx%7D/%7By%7D%27%2C%0A%20%20%20%20%20%20%20%20%7B%0A%20%20%20%20%20%20%20%20%22attribution%22%3A%20%22Map%20Data%20%26copy%3B%20%3Ca%20href%3D%5C%22https%3A//earthengine.google.com/%5C%22%3EGoogle%20Earth%20Engine%3C/a%3E%22%2C%0A%20%20%20%20%20%20%20%20%22detectRetina%22%3A%20false%2C%0A%20%20%20%20%20%20%20%20%22maxNativeZoom%22%3A%2018%2C%0A%20%20%20%20%20%20%20%20%22maxZoom%22%3A%2018%2C%0A%20%20%20%20%20%20%20%20%22minZoom%22%3A%200%2C%0A%20%20%20%20%20%20%20%20%22noWrap%22%3A%20false%2C%0A%20%20%20%20%20%20%20%20%22opacity%22%3A%201%2C%0A%20%20%20%20%20%20%20%20%22subdomains%22%3A%20%22abc%22%2C%0A%20%20%20%20%20%20%20%20%22tms%22%3A%20false%0A%7D%29.addTo%28map_92db7c62f81d425eb8d57cec618a420c%29%3B%0A%20%20%20%20%0A%20%20%20%20%20%20%20%20%20%20%20%20var%20layer_control_4340a64aa2bb4371b15dfe43fad8497d%20%3D%20%7B%0A%20%20%20%20%20%20%20%20%20%20%20%20%20%20%20%20base_layers%20%3A%20%7B%20%22openstreetmap%22%20%3A%20tile_layer_e022c749f8274b6588c75e35712b0c3f%2C%20%7D%2C%0A%20%20%20%20%20%20%20%20%20%20%20%20%20%20%20%20overlays%20%3A%20%7B%20%22FFA%22%20%3A%20tile_layer_e9606d85fc284fe085f43b7a26f399cb%2C%20%7D%0A%20%20%20%20%20%20%20%20%20%20%20%20%20%20%20%20%7D%3B%0A%20%20%20%20%20%20%20%20%20%20%20%20L.control.layers%28%0A%20%20%20%20%20%20%20%20%20%20%20%20%20%20%20%20layer_control_4340a64aa2bb4371b15dfe43fad8497d.base_layers%2C%0A%20%20%20%20%20%20%20%20%20%20%20%20%20%20%20%20layer_control_4340a64aa2bb4371b15dfe43fad8497d.overlays%2C%0A%20%20%20%20%20%20%20%20%20%20%20%20%20%20%20%20%7Bposition%3A%20%27topright%27%2C%0A%20%20%20%20%20%20%20%20%20%20%20%20%20%20%20%20%20collapsed%3A%20true%2C%0A%20%20%20%20%20%20%20%20%20%20%20%20%20%20%20%20%20autoZIndex%3A%20true%0A%20%20%20%20%20%20%20%20%20%20%20%20%20%20%20%20%7D%29.addTo%28map_92db7c62f81d425eb8d57cec618a420c%29%3B%0A%20%20%20%20%20%20%20%20%20%20%20%20%0A%20%20%20%20%20%20%20%20%0A%3C/script%3E onload=\"this.contentDocument.open();this.contentDocument.write(    decodeURIComponent(this.getAttribute('data-html')));this.contentDocument.close();\" allowfullscreen webkitallowfullscreen mozallowfullscreen></iframe></div></div>"
            ],
            "text/plain": [
              "<folium.folium.Map at 0x7f6e30518490>"
            ]
          },
          "metadata": {
            "tags": []
          }
        }
      ]
    },
    {
      "cell_type": "markdown",
      "metadata": {
        "id": "UGL8R13Enwfq"
      },
      "source": [
        "Build the ratio of the VV bands of the first two images and display it"
      ]
    },
    {
      "cell_type": "code",
      "metadata": {
        "id": "o1ECbdBbnyDW",
        "colab": {
          "base_uri": "https://localhost:8080/",
          "height": 799
        },
        "outputId": "f3fb5338-3ed7-441d-d8cc-cc23ed137061"
      },
      "source": [
        "img1 = ee.Image(list_fl.get(0)).select('VV')\n",
        "img2 = ee.Image(list_fl.get(1)).select('VV')\n",
        "\n",
        "ratio = img1.divide(img2)\n",
        "url = ratio.getThumbURL({'min': 0, 'max': 10})\n",
        "disp.Image(url=url, width=800)"
      ],
      "execution_count": 9,
      "outputs": [
        {
          "output_type": "execute_result",
          "data": {
            "text/html": [
              "<img src=\"https://earthengine.googleapis.com/v1alpha/projects/earthengine-legacy/thumbnails/a8846ad7433f5b5352fe6bdb935a3d74-9b6705ebe4057704a4ed2ef8fe9d85eb:getPixels\" width=\"800\"/>"
            ],
            "text/plain": [
              "<IPython.core.display.Image object>"
            ]
          },
          "metadata": {
            "tags": []
          },
          "execution_count": 9
        }
      ]
    }
  ]
}