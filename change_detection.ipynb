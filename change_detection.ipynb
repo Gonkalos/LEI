{
  "nbformat": 4,
  "nbformat_minor": 0,
  "metadata": {
    "colab": {
      "name": "change_detection_dl.ipynb",
      "provenance": [],
      "collapsed_sections": []
    },
    "kernelspec": {
      "display_name": "Python 3",
      "name": "python3"
    },
    "language_info": {
      "name": "python"
    }
  },
  "cells": [
    {
      "cell_type": "markdown",
      "metadata": {
        "id": "3sbN5ESqh6QK"
      },
      "source": [
        "Initialize Google Earth Engine API"
      ]
    },
    {
      "cell_type": "code",
      "metadata": {
        "colab": {
          "base_uri": "https://localhost:8080/"
        },
        "id": "Th6366lYh2Kp",
        "outputId": "fa8389f1-d756-4a86-c668-cf4460d7adcc"
      },
      "source": [
        "import ee\n",
        "\n",
        "# trigger the authentication flow\n",
        "ee.Authenticate()\n",
        "\n",
        "# initialize the library\n",
        "ee.Initialize()"
      ],
      "execution_count": 1,
      "outputs": [
        {
          "output_type": "stream",
          "text": [
            "To authorize access needed by Earth Engine, open the following URL in a web browser and follow the instructions. If the web browser does not start automatically, please manually browse the URL below.\n",
            "\n",
            "    https://accounts.google.com/o/oauth2/auth?client_id=517222506229-vsmmajv00ul0bs7p89v5m89qs8eb9359.apps.googleusercontent.com&scope=https%3A%2F%2Fwww.googleapis.com%2Fauth%2Fearthengine+https%3A%2F%2Fwww.googleapis.com%2Fauth%2Fdevstorage.full_control&redirect_uri=urn%3Aietf%3Awg%3Aoauth%3A2.0%3Aoob&response_type=code&code_challenge=yy36GNo6OnGY7oX9Bwl55vG9-51c9FZWiaiOu8eBS6E&code_challenge_method=S256\n",
            "\n",
            "The authorization workflow will generate a code, which you should paste in the box below. \n",
            "Enter verification code: 4/1AY0e-g6k4NOD8q9Q7ksLl8cCazQ8eB-rpFnBLiOr3HmHXFVHKadCmaejANo\n",
            "\n",
            "Successfully saved authorization token.\n"
          ],
          "name": "stdout"
        }
      ]
    },
    {
      "cell_type": "markdown",
      "metadata": {
        "id": "na39Be12iAYq"
      },
      "source": [
        "Import some python modules and enable inline graphics"
      ]
    },
    {
      "cell_type": "code",
      "metadata": {
        "id": "zvT-tCCViBwq"
      },
      "source": [
        "import numpy as np\n",
        "import matplotlib.pyplot as plt\n",
        "from scipy.stats import norm, gamma, f, chi2\n",
        "import IPython.display as disp\n",
        "%matplotlib inline"
      ],
      "execution_count": 2,
      "outputs": []
    },
    {
      "cell_type": "markdown",
      "metadata": {
        "id": "aRIa85igmmoJ"
      },
      "source": [
        "Make use of interactive maps with the package Folium"
      ]
    },
    {
      "cell_type": "code",
      "metadata": {
        "id": "M2R8eOuumpNi"
      },
      "source": [
        "# import the Folium library.\n",
        "import folium\n",
        "\n",
        "# define a method for displaying Earth Engine image tiles to folium map.\n",
        "def add_ee_layer(self, ee_image_object, vis_params, name):\n",
        "  map_id_dict = ee.Image(ee_image_object).getMapId(vis_params)\n",
        "  folium.raster_layers.TileLayer(\n",
        "    tiles = map_id_dict['tile_fetcher'].url_format,\n",
        "    attr = 'Map Data &copy; <a href=\"https://earthengine.google.com/\">Google Earth Engine</a>',\n",
        "    name = name,\n",
        "    overlay = True,\n",
        "    control = True\n",
        "  ).add_to(self)\n",
        "\n",
        "# add EE drawing method to folium.\n",
        "folium.Map.add_ee_layer = add_ee_layer"
      ],
      "execution_count": 3,
      "outputs": []
    },
    {
      "cell_type": "markdown",
      "metadata": {
        "id": "Mz89CT9wiVgS"
      },
      "source": [
        "Define the region of interest with GeoJSON"
      ]
    },
    {
      "cell_type": "code",
      "metadata": {
        "id": "MsPyt-zgiIzd"
      },
      "source": [
        "coords = [-8.49606, 41.49750, -8.36868, 41.59050]\n",
        "\n",
        "geoJSON = {\n",
        "    \"type\": \"Feature\",\n",
        "    \"properties\": {},\n",
        "    \"geometry\": {\n",
        "        \"type\": \"Polygon\",\n",
        "        \"coordinates\": coords\n",
        "    }\n",
        "}\n",
        "\n",
        "aoi = ee.Geometry.Rectangle(coords)"
      ],
      "execution_count": 4,
      "outputs": []
    },
    {
      "cell_type": "markdown",
      "metadata": {
        "id": "uyvde1ociZS_"
      },
      "source": [
        "Get the image collection from the Google Earth Engine archives"
      ]
    },
    {
      "cell_type": "code",
      "metadata": {
        "id": "qcsoexsuib_p"
      },
      "source": [
        "collection = (ee.ImageCollection('COPERNICUS/S1_GRD')                      # specify image archive\n",
        "                .filterBounds(aoi)                                         # specify area on interest\n",
        "                .filterDate(ee.Date('2014-01-01'),ee.Date('2021-01-01'))   # specify time period\n",
        "                .filter(ee.Filter.eq('orbitProperties_pass', 'ASCENDING')) # specify orbit pass \n",
        "                .sort('system:time_start'))                                # sort by date"
      ],
      "execution_count": 5,
      "outputs": []
    },
    {
      "cell_type": "markdown",
      "metadata": {
        "id": "DA-elgzhilWL"
      },
      "source": [
        "Get collection as a list and clip all images to the area of interest"
      ]
    },
    {
      "cell_type": "code",
      "metadata": {
        "colab": {
          "base_uri": "https://localhost:8080/"
        },
        "id": "80toKrniil7z",
        "outputId": "a29407e1-eb64-49cc-9582-491ff1b7408f"
      },
      "source": [
        "# get the image collection as a list\n",
        "images = collection.toList(collection.size())\n",
        "\n",
        "print('Number of images available:', images.length().getInfo())\n",
        "\n",
        "# clip an image to the area of interest\n",
        "def clip_image(image):\n",
        "  return ee.Image(image).clip(aoi)\n",
        "\n",
        "# clip all images to the area of interest\n",
        "images = ee.List(images.map(clip_image))"
      ],
      "execution_count": 6,
      "outputs": [
        {
          "output_type": "stream",
          "text": [
            "Number of images available: 313\n"
          ],
          "name": "stdout"
        }
      ]
    },
    {
      "cell_type": "markdown",
      "metadata": {
        "id": "nzitHbMdlBM0"
      },
      "source": [
        "Create a RGB composite from the diferent bands. For Sentinel-1 data, the standard way to make the RGB composite is VV for red, VH for green and VV/VH for blue"
      ]
    },
    {
      "cell_type": "code",
      "metadata": {
        "id": "uBgRPw56k_z5"
      },
      "source": [
        "def to_rgb(image):\n",
        "  return ee.Image.rgb(image.select('VV'),                            \n",
        "                      image.select('VH'),                            \n",
        "                      image.select('VV').divide(image.select('VH')))"
      ],
      "execution_count": 7,
      "outputs": []
    },
    {
      "cell_type": "markdown",
      "metadata": {
        "id": "ikMKojBEm5xm"
      },
      "source": [
        "Convert a Earth Engine Image into a Pillow Image"
      ]
    },
    {
      "cell_type": "code",
      "metadata": {
        "id": "5Q-hb6bZmd8v"
      },
      "source": [
        "from PIL import Image\n",
        "import requests\n",
        "\n",
        "def to_pillow(image):\n",
        "  url = image.getThumbURL({'min': [-20, -20, 0], 'max': [0, 0, 2]})\n",
        "  return Image.open(requests.get(url, stream=True).raw)"
      ],
      "execution_count": 8,
      "outputs": []
    },
    {
      "cell_type": "markdown",
      "metadata": {
        "id": "9Vzx4oA-qvAo"
      },
      "source": [
        "Crop the center of an image"
      ]
    },
    {
      "cell_type": "code",
      "metadata": {
        "id": "XhuZRq6NozHU"
      },
      "source": [
        "def crop_image(image, new_width, new_height):\n",
        "  image_width, image_height = image.size\n",
        "  left = round((image_width - new_width)/2)\n",
        "  top = round((image_height - new_height)/2)\n",
        "  x_right = round(image_width - new_width) - left\n",
        "  x_bottom = round(image_height - new_height) - top\n",
        "  right = image_width - x_right\n",
        "  bottom = image_height - x_bottom\n",
        "  return image.crop((left, top, right, bottom))"
      ],
      "execution_count": 9,
      "outputs": []
    },
    {
      "cell_type": "markdown",
      "metadata": {
        "id": "_AIPvys9q7kx"
      },
      "source": [
        "Convert a Pillow Image into a Numpy Array"
      ]
    },
    {
      "cell_type": "code",
      "metadata": {
        "id": "l961RiXBq567"
      },
      "source": [
        "def to_array(image):\n",
        "  data = np.array(image)\n",
        "  return data[:, :, 0]"
      ],
      "execution_count": 14,
      "outputs": []
    },
    {
      "cell_type": "markdown",
      "metadata": {
        "id": "JBfqScGvrJwz"
      },
      "source": [
        "Convert a Numpy Array into a Pilow Image"
      ]
    },
    {
      "cell_type": "code",
      "metadata": {
        "id": "dvwd1dxOrImh"
      },
      "source": [
        "from numpy import asarray\n",
        "\n",
        "def to_image(array):\n",
        "  image = Image.fromarray(array)\n",
        "  if image.mode != 'RGB':\n",
        "    image = image.convert('RGB')\n",
        "  return image"
      ],
      "execution_count": 15,
      "outputs": []
    },
    {
      "cell_type": "markdown",
      "metadata": {
        "id": "ufOo5C8brtjM"
      },
      "source": [
        "Prepare data"
      ]
    },
    {
      "cell_type": "code",
      "metadata": {
        "colab": {
          "base_uri": "https://localhost:8080/"
        },
        "id": "eqqyKgfcsqvb",
        "outputId": "f2733044-fb9c-424f-c4bf-6c1f1bbb1a00"
      },
      "source": [
        "def prepare_data(images):\n",
        "  nr_images = images.length().getInfo()\n",
        "  data = []\n",
        "  #for i in range(nr_images):\n",
        "  for i in range(10):\n",
        "    image = ee.Image(images.get(i))\n",
        "    image_rgb = to_rgb(image)\n",
        "    image_pillow = to_pillow(image_rgb)\n",
        "    image_cropped = crop_image(image_pillow, 1024, 1024)\n",
        "    image_data = to_array(image_cropped)\n",
        "    data.append(image_data)\n",
        "  return np.array(data)\n",
        "\n",
        "data = prepare_data(images)\n",
        "\n",
        "print(data.shape)"
      ],
      "execution_count": 53,
      "outputs": [
        {
          "output_type": "stream",
          "text": [
            "(10, 1024, 1024)\n"
          ],
          "name": "stdout"
        }
      ]
    },
    {
      "cell_type": "markdown",
      "metadata": {
        "id": "4VP2H21Hr22M"
      },
      "source": [
        "Create set to make the problem supervised"
      ]
    },
    {
      "cell_type": "code",
      "metadata": {
        "id": "CVl2ZVStr7yT",
        "colab": {
          "base_uri": "https://localhost:8080/"
        },
        "outputId": "2baec1f5-46cd-4de4-8fab-4752710294fc"
      },
      "source": [
        "def to_supervised(data):\n",
        "  nr_images = np.size(data, 0)\n",
        "  changes = np.empty((nr_images - 1, 1024, 1024))\n",
        "  for i in range(nr_images - 1):\n",
        "    ratio = np.subtract(data[i], data[i + 1])\n",
        "    changes[i] = ratio\n",
        "  return changes\n",
        "\n",
        "changes = to_supervised(data)\n",
        "\n",
        "print(changes.shape)"
      ],
      "execution_count": 54,
      "outputs": [
        {
          "output_type": "stream",
          "text": [
            "(9, 1024, 1024)\n"
          ],
          "name": "stdout"
        }
      ]
    },
    {
      "cell_type": "markdown",
      "metadata": {
        "id": "xSZ56Y8YKVdo"
      },
      "source": [
        "Normalize pixel values. The images are in gray scale, so the values are between [0, 255]  "
      ]
    },
    {
      "cell_type": "code",
      "metadata": {
        "id": "0pfM2dYKI7mM"
      },
      "source": [
        "def normalize_data(data):\n",
        "  return data.astype('float32') / 255\n",
        "\n",
        "data_normalized = normalize_data(data)\n",
        "changes_normalized = normalize_data(changes)"
      ],
      "execution_count": 55,
      "outputs": []
    },
    {
      "cell_type": "markdown",
      "metadata": {
        "id": "Fru-Gv5z6P_y"
      },
      "source": [
        "Slice an array into smaller arrays"
      ]
    },
    {
      "cell_type": "code",
      "metadata": {
        "colab": {
          "base_uri": "https://localhost:8080/"
        },
        "id": "-_HFLQbu_vQV",
        "outputId": "eb41ea44-ae2d-4475-999b-a113b3ea6251"
      },
      "source": [
        "def slice_array(array, width, height):\n",
        "  slices = []\n",
        "  for x in range(0, array.shape[0], height):\n",
        "    for y in range(0, array.shape[1], width):\n",
        "      slices.append(array[x: x + height, y: y + width])\n",
        "  return np.array(slices)\n",
        "\n",
        "def slice_arrays(arrays):\n",
        "  slices = []\n",
        "  for array in arrays:\n",
        "    slices.append(slice_array(array, 128, 128))\n",
        "  return np.array(slices)\n",
        "\n",
        "data_slices = slice_arrays(data_normalized)\n",
        "changes_slices = slice_arrays(changes_normalized)\n",
        "\n",
        "print(data_slices.shape)\n",
        "print(changes_slices.shape)"
      ],
      "execution_count": 58,
      "outputs": [
        {
          "output_type": "stream",
          "text": [
            "(10, 64, 128, 128)\n",
            "(9, 64, 128, 128)\n"
          ],
          "name": "stdout"
        }
      ]
    },
    {
      "cell_type": "markdown",
      "metadata": {
        "id": "Adtc0IF4ishU"
      },
      "source": [
        "Split data into training and testing sets"
      ]
    },
    {
      "cell_type": "code",
      "metadata": {
        "colab": {
          "base_uri": "https://localhost:8080/"
        },
        "id": "lAh8sP3RMsM_",
        "outputId": "58b75c71-43c3-4882-c5f4-da832323a4cb"
      },
      "source": [
        "import math\n",
        "\n",
        "def split_data(data, percentage):\n",
        "  nr_images, _, _ = data.shape\n",
        "  train_size = math.floor(nr_images * percentage)\n",
        "  x_train, x_test = data[:train_size,:], data[train_size:,:]\n",
        "  y_train, y_test = changes[:(train_size - 1),:], changes[(train_size):,:]\n",
        "  return x_train, y_train, x_test, y_test\n",
        "\n",
        "x_train, y_train, x_test, y_test = split_data(data, 0.8)\n",
        "print('Training data set shape:', x_train.shape)\n",
        "print('Training changes set shape:', y_train.shape)\n",
        "print('Testing data set shape:', x_test.shape)\n",
        "print('Testing changes set shape:', y_test.shape)"
      ],
      "execution_count": 59,
      "outputs": [
        {
          "output_type": "stream",
          "text": [
            "Training data set shape: (8, 1024, 1024)\n",
            "Training changes set shape: (7, 1024, 1024)\n",
            "Testing data set shape: (2, 1024, 1024)\n",
            "Testing changes set shape: (1, 1024, 1024)\n"
          ],
          "name": "stdout"
        }
      ]
    }
  ]
}